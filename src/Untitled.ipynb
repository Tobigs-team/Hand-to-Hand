{
 "cells": [
  {
   "cell_type": "markdown",
   "metadata": {},
   "source": [
    "1.먼저 F 빼고 다 지웁시다."
   ]
  },
  {
   "cell_type": "code",
   "execution_count": 66,
   "metadata": {},
   "outputs": [],
   "source": [
    "import json\n",
    "import os"
   ]
  },
  {
   "cell_type": "markdown",
   "metadata": {},
   "source": [
    "- data 디렉토리는 설정해주세요. 저같은 경우는 ../data/에 있습니다."
   ]
  },
  {
   "cell_type": "code",
   "execution_count": 26,
   "metadata": {},
   "outputs": [],
   "source": [
    "file_dir = \"../data/\" # setting"
   ]
  },
  {
   "cell_type": "markdown",
   "metadata": {},
   "source": [
    "- dir 세팅"
   ]
  },
  {
   "cell_type": "code",
   "execution_count": 32,
   "metadata": {},
   "outputs": [
    {
     "data": {
      "text/plain": [
       "['CROWD_REAL005', 'CROWD_REAL006', 'CROWD_REAL004']"
      ]
     },
     "execution_count": 32,
     "metadata": {},
     "output_type": "execute_result"
    }
   ],
   "source": [
    "step1 = os.listdir(file_dir)\n",
    "step1"
   ]
  },
  {
   "cell_type": "markdown",
   "metadata": {},
   "source": [
    "- 차례차례 들어가볼게요"
   ]
  },
  {
   "cell_type": "code",
   "execution_count": 65,
   "metadata": {},
   "outputs": [],
   "source": [
    "for dir1 in step1:\n",
    "    step2 = os.listdir(file_dir + dir1)\n",
    "    #print(step2)\n",
    "    for dir2 in step2:\n",
    "        step3 = os.listdir(file_dir + dir1 + '/' + dir2)\n",
    "        #print(step3)\n",
    "        for dir3 in step3:\n",
    "            file_list = os.listdir(file_dir + dir1 + '/' + dir2 + '/' + dir3)\n",
    "            ## 여기 file list 파싱해서 F 다 지웁시다.\n",
    "            for file in file_list:\n",
    "                file_name = file_dir + dir1 + '/' + dir2 + '/' + dir3 + '/' + file\n",
    "                if file.split('.')[0].split('_')[4] != 'F': # 삭제\n",
    "                    os.remove(file_name)\n",
    "#                     print(file_name) # 지워진 파일 출력"
   ]
  },
  {
   "cell_type": "code",
   "execution_count": null,
   "metadata": {},
   "outputs": [],
   "source": []
  }
 ],
 "metadata": {
  "kernelspec": {
   "display_name": "Python 3",
   "language": "python",
   "name": "python3"
  },
  "language_info": {
   "codemirror_mode": {
    "name": "ipython",
    "version": 3
   },
   "file_extension": ".py",
   "mimetype": "text/x-python",
   "name": "python",
   "nbconvert_exporter": "python",
   "pygments_lexer": "ipython3",
   "version": "3.7.6"
  }
 },
 "nbformat": 4,
 "nbformat_minor": 4
}
