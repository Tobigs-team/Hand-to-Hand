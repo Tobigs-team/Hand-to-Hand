{
 "cells": [
  {
   "cell_type": "markdown",
   "metadata": {},
   "source": [
    "1.먼저 F 빼고 다 지웁시다."
   ]
  },
  {
   "cell_type": "code",
   "execution_count": 65,
   "metadata": {},
   "outputs": [],
   "source": [
    "import json\n",
    "import os\n",
    "import math\n",
    "import pandas as pd\n",
    "import cv2"
   ]
  },
  {
   "cell_type": "markdown",
   "metadata": {},
   "source": [
    "- data 디렉토리는 설정해주세요. 저같은 경우는 ../data/에 있습니다."
   ]
  },
  {
   "cell_type": "code",
   "execution_count": 2,
   "metadata": {},
   "outputs": [],
   "source": [
    "file_dir = \"../data/\" # setting"
   ]
  },
  {
   "cell_type": "markdown",
   "metadata": {},
   "source": [
    "- dir 세팅"
   ]
  },
  {
   "cell_type": "code",
   "execution_count": 3,
   "metadata": {},
   "outputs": [
    {
     "data": {
      "text/plain": [
       "['CROWD_REAL005', 'CROWD_REAL006', 'CROWD_REAL004']"
      ]
     },
     "execution_count": 3,
     "metadata": {},
     "output_type": "execute_result"
    }
   ],
   "source": [
    "step1 = os.listdir(file_dir)\n",
    "step1"
   ]
  },
  {
   "cell_type": "markdown",
   "metadata": {},
   "source": [
    "- 차례차례 들어가볼게요"
   ]
  },
  {
   "cell_type": "code",
   "execution_count": 86,
   "metadata": {},
   "outputs": [],
   "source": [
    "for dir1 in step1:\n",
    "    step1_dir = file_dir + dir1\n",
    "    step2 = os.listdir(step1_dir)\n",
    "#     print(step1_dir)\n",
    "    \n",
    "    for dir2 in step2:\n",
    "        step2_dir = step1_dir + '/' + dir2\n",
    "        step3 = os.listdir(step2_dir)\n",
    "        \n",
    "        for dir3 in step3:\n",
    "            step3_dir = step2_dir + '/' + dir3\n",
    "            file_list = os.listdir(step3_dir)\n",
    "            \n",
    "            ## 여기 file list 파싱해서 F 다 지웁시다.\n",
    "            for file in file_list:\n",
    "                file_name = step3_dir + '/' + file\n",
    "                if file.split('.')[0].split('_')[4] != 'F': # 삭제\n",
    "                    os.remove(file_name)\n",
    "#                     print(file_name) # 지워진 파일 출력"
   ]
  },
  {
   "cell_type": "markdown",
   "metadata": {},
   "source": [
    "2. 영상 잘라서 이미지 만들기"
   ]
  },
  {
   "cell_type": "markdown",
   "metadata": {},
   "source": [
    "- 데이터가 비어있는 영상도 체크합시다. \n",
    "- 저희는 [영상제목, 영상 시작시간, 영상 종료시간] 정보로 이미지 만들게요."
   ]
  },
  {
   "cell_type": "code",
   "execution_count": 54,
   "metadata": {},
   "outputs": [],
   "source": [
    "video_start_end_info = []\n",
    "error_video = []"
   ]
  },
  {
   "cell_type": "code",
   "execution_count": 55,
   "metadata": {},
   "outputs": [
    {
     "name": "stdout",
     "output_type": "stream",
     "text": [
      "파일 갯수 1000\n",
      "에러난 파일명:  NIA_SL_FS0713_CROWD12_F.mp4\n",
      "파일 갯수 1000\n",
      "파일 갯수 1000\n",
      "파일 갯수 1000\n",
      "파일 갯수 1000\n",
      "파일 갯수 1000\n",
      "에러난 파일명:  NIA_SL_FS0795_CROWD14_F.MP4\n",
      "파일 갯수 1000\n",
      "파일 갯수 1000\n",
      "파일 갯수 1000\n"
     ]
    }
   ],
   "source": [
    "for dir1 in step1:\n",
    "    step1_dir = file_dir + dir1\n",
    "    step2 = os.listdir(step1_dir)\n",
    "#     print(step1_dir)\n",
    "    \n",
    "    for dir2 in step2:\n",
    "        step2_dir = step1_dir + '/' + dir2\n",
    "        step3 = os.listdir(step2_dir)\n",
    "        \n",
    "        # 형태소로 들어가기 및 영상 저장\n",
    "        video_dir = step2_dir + '/' + step3[0]\n",
    "        step3_dir = step2_dir + '/' + step3[2]\n",
    "        file_list = os.listdir(step3_dir)\n",
    "        \n",
    "        print(\"파일 갯수\", len(file_list))\n",
    "        \n",
    "        for file in file_list:\n",
    "            tmp = []\n",
    "            \n",
    "            file_name = step3_dir + '/' + file\n",
    "#             print(file_name)\n",
    "            \n",
    "            with open(file_name) as json_file:\n",
    "                try:\n",
    "                    json_data = json.load(json_file)\n",
    "                    clip_name = json_data[\"metaData\"]['name']\n",
    "    #                 print(clip_name)\n",
    "    \n",
    "                    if len(json_data[\"data\"]) != 0:\n",
    "                        clip_start = json_data[\"data\"][0]['start']\n",
    "                        tmp.append(video_dir + '/' + clip_name)\n",
    "                    else:\n",
    "                        print(\"에러난 파일명: \", clip_name)\n",
    "                        error_video.append(file_name)\n",
    "                        continue\n",
    "                    \n",
    "                    clip_start = math.trunc(clip_start * 10) / 10\n",
    "                    tmp.append(clip_start)\n",
    "                #     print(clip_start)\n",
    "\n",
    "                    clip_end = json_data[\"data\"][0]['end']\n",
    "                    clip_end = math.ceil(clip_end * 10) / 10\n",
    "                    tmp.append(clip_end)\n",
    "                #     print(clip_end)\n",
    "                except:\n",
    "                    print(\"에러난 파일명: \", clip_name) # 아마 data가 없는파일임.\n",
    "            video_start_end_info.append(tmp)"
   ]
  },
  {
   "cell_type": "markdown",
   "metadata": {},
   "source": [
    "- 갯수 체크하시구"
   ]
  },
  {
   "cell_type": "code",
   "execution_count": 56,
   "metadata": {},
   "outputs": [
    {
     "name": "stdout",
     "output_type": "stream",
     "text": [
      "정상적으로 담긴거  8998\n",
      "에러 영상  2\n"
     ]
    }
   ],
   "source": [
    "print(\"정상적으로 담긴거 \", len(video_start_end_info))\n",
    "print(\"에러 영상 \", len(error_video))"
   ]
  },
  {
   "cell_type": "markdown",
   "metadata": {},
   "source": [
    "- 잘 담겼는지 확인해주세요~"
   ]
  },
  {
   "cell_type": "code",
   "execution_count": 60,
   "metadata": {},
   "outputs": [
    {
     "data": {
      "text/html": [
       "<div>\n",
       "<style scoped>\n",
       "    .dataframe tbody tr th:only-of-type {\n",
       "        vertical-align: middle;\n",
       "    }\n",
       "\n",
       "    .dataframe tbody tr th {\n",
       "        vertical-align: top;\n",
       "    }\n",
       "\n",
       "    .dataframe thead th {\n",
       "        text-align: right;\n",
       "    }\n",
       "</style>\n",
       "<table border=\"1\" class=\"dataframe\">\n",
       "  <thead>\n",
       "    <tr style=\"text-align: right;\">\n",
       "      <th></th>\n",
       "      <th>0</th>\n",
       "      <th>1</th>\n",
       "      <th>2</th>\n",
       "    </tr>\n",
       "  </thead>\n",
       "  <tbody>\n",
       "    <tr>\n",
       "      <th>0</th>\n",
       "      <td>../data/CROWD_REAL005/CROWD_REAL015/영상/NIA_SL_...</td>\n",
       "      <td>1.5</td>\n",
       "      <td>6.4</td>\n",
       "    </tr>\n",
       "    <tr>\n",
       "      <th>1</th>\n",
       "      <td>../data/CROWD_REAL005/CROWD_REAL015/영상/NIA_SL_...</td>\n",
       "      <td>1.0</td>\n",
       "      <td>7.8</td>\n",
       "    </tr>\n",
       "    <tr>\n",
       "      <th>2</th>\n",
       "      <td>../data/CROWD_REAL005/CROWD_REAL015/영상/NIA_SL_...</td>\n",
       "      <td>1.5</td>\n",
       "      <td>5.4</td>\n",
       "    </tr>\n",
       "    <tr>\n",
       "      <th>3</th>\n",
       "      <td>../data/CROWD_REAL005/CROWD_REAL015/영상/NIA_SL_...</td>\n",
       "      <td>1.9</td>\n",
       "      <td>6.7</td>\n",
       "    </tr>\n",
       "    <tr>\n",
       "      <th>4</th>\n",
       "      <td>../data/CROWD_REAL005/CROWD_REAL015/영상/NIA_SL_...</td>\n",
       "      <td>1.1</td>\n",
       "      <td>5.4</td>\n",
       "    </tr>\n",
       "  </tbody>\n",
       "</table>\n",
       "</div>"
      ],
      "text/plain": [
       "                                                   0    1    2\n",
       "0  ../data/CROWD_REAL005/CROWD_REAL015/영상/NIA_SL_...  1.5  6.4\n",
       "1  ../data/CROWD_REAL005/CROWD_REAL015/영상/NIA_SL_...  1.0  7.8\n",
       "2  ../data/CROWD_REAL005/CROWD_REAL015/영상/NIA_SL_...  1.5  5.4\n",
       "3  ../data/CROWD_REAL005/CROWD_REAL015/영상/NIA_SL_...  1.9  6.7\n",
       "4  ../data/CROWD_REAL005/CROWD_REAL015/영상/NIA_SL_...  1.1  5.4"
      ]
     },
     "execution_count": 60,
     "metadata": {},
     "output_type": "execute_result"
    }
   ],
   "source": [
    "pd_test = pd.DataFrame(video_start_end_info)\n",
    "pd_test.head()"
   ]
  },
  {
   "cell_type": "markdown",
   "metadata": {},
   "source": [
    "- 이미지를 저장할 폴더를 만들고 잘라봅시다."
   ]
  },
  {
   "cell_type": "code",
   "execution_count": 63,
   "metadata": {},
   "outputs": [],
   "source": [
    "img_dir = \"../data/img\"\n",
    "os.makedirs(img_dir)"
   ]
  },
  {
   "cell_type": "markdown",
   "metadata": {},
   "source": [
    "- 시작합니다~ 추가로 한번 진행해보다가 중단하시고 프레임번호가 위에 영상 시작, 끝시간과 맞는지 확인해보는거도 조아요~"
   ]
  },
  {
   "cell_type": "code",
   "execution_count": null,
   "metadata": {},
   "outputs": [],
   "source": [
    "for video_info in video_start_end_info:\n",
    "    # video_info[0] : 영상 경로, video_info[1] : 영상 시작, video_info[2] : 영상 끝\n",
    "    \n",
    "    editing_video = video_info[0].split('/')[-1]\n",
    "    output_dir = img_dir + '/' + editing_video\n",
    "    os.makedirs(output_dir)\n",
    "    \n",
    "    vidcap = cv2.VideoCapture(video_info[0])\n",
    "    count = -1\n",
    "    while vidcap.isOpened():\n",
    "        count+=1\n",
    "        success, image = vidcap.read()\n",
    "        if success: \n",
    "            if video_info[1] * 30 <= count and count <= video_info[2] * 30:\n",
    "                cv2.imwrite(os.path.join(output_dir, editing_video+ ' %d.png') %(count), image)\n",
    "        else:\n",
    "            cv2.destroyAllWindows()\n",
    "            vidcap.release()"
   ]
  },
  {
   "cell_type": "code",
   "execution_count": null,
   "metadata": {},
   "outputs": [],
   "source": []
  }
 ],
 "metadata": {
  "kernelspec": {
   "display_name": "Python 3",
   "language": "python",
   "name": "python3"
  },
  "language_info": {
   "codemirror_mode": {
    "name": "ipython",
    "version": 3
   },
   "file_extension": ".py",
   "mimetype": "text/x-python",
   "name": "python",
   "nbconvert_exporter": "python",
   "pygments_lexer": "ipython3",
   "version": "3.7.6"
  }
 },
 "nbformat": 4,
 "nbformat_minor": 4
}
