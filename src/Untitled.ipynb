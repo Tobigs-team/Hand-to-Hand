{
 "cells": [
  {
   "cell_type": "markdown",
   "metadata": {},
   "source": [
    "1.먼저 F 빼고 다 지웁시다."
   ]
  },
  {
   "cell_type": "code",
   "execution_count": 120,
   "metadata": {},
   "outputs": [],
   "source": [
    "import json\n",
    "import os\n",
    "import math"
   ]
  },
  {
   "cell_type": "markdown",
   "metadata": {},
   "source": [
    "- data 디렉토리는 설정해주세요. 저같은 경우는 ../data/에 있습니다."
   ]
  },
  {
   "cell_type": "code",
   "execution_count": 26,
   "metadata": {},
   "outputs": [],
   "source": [
    "file_dir = \"../data/\" # setting"
   ]
  },
  {
   "cell_type": "markdown",
   "metadata": {},
   "source": [
    "- dir 세팅"
   ]
  },
  {
   "cell_type": "code",
   "execution_count": 32,
   "metadata": {},
   "outputs": [
    {
     "data": {
      "text/plain": [
       "['CROWD_REAL005', 'CROWD_REAL006', 'CROWD_REAL004']"
      ]
     },
     "execution_count": 32,
     "metadata": {},
     "output_type": "execute_result"
    }
   ],
   "source": [
    "step1 = os.listdir(file_dir)\n",
    "step1"
   ]
  },
  {
   "cell_type": "markdown",
   "metadata": {},
   "source": [
    "- 차례차례 들어가볼게요"
   ]
  },
  {
   "cell_type": "code",
   "execution_count": 86,
   "metadata": {},
   "outputs": [],
   "source": [
    "for dir1 in step1:\n",
    "    step1_dir = file_dir + dir1\n",
    "    step2 = os.listdir(step1_dir)\n",
    "#     print(step1_dir)\n",
    "    \n",
    "    for dir2 in step2:\n",
    "        step2_dir = step1_dir + '/' + dir2\n",
    "        step3 = os.listdir(step2_dir)\n",
    "        \n",
    "        for dir3 in step3:\n",
    "            step3_dir = step2_dir + '/' + dir3\n",
    "            file_list = os.listdir(step3_dir)\n",
    "            \n",
    "            ## 여기 file list 파싱해서 F 다 지웁시다.\n",
    "            for file in file_list:\n",
    "                file_name = step3_dir + '/' + file\n",
    "                if file.split('.')[0].split('_')[4] != 'F': # 삭제\n",
    "                    os.remove(file_name)\n",
    "#                     print(file_name) # 지워진 파일 출력"
   ]
  },
  {
   "cell_type": "markdown",
   "metadata": {},
   "source": [
    "2. 영상 잘라서 이미지 만들기"
   ]
  },
  {
   "cell_type": "code",
   "execution_count": 88,
   "metadata": {},
   "outputs": [
    {
     "data": {
      "text/plain": [
       "['영상', '키포인트Json', '형태소Json']"
      ]
     },
     "execution_count": 88,
     "metadata": {},
     "output_type": "execute_result"
    }
   ],
   "source": [
    "step3"
   ]
  },
  {
   "cell_type": "code",
   "execution_count": 145,
   "metadata": {},
   "outputs": [
    {
     "name": "stdout",
     "output_type": "stream",
     "text": [
      "NIA_SL_FS0683_CROWD16_F.mp4\n"
     ]
    }
   ],
   "source": [
    "file_name = '../data/CROWD_REAL005/CROWD_REAL015/형태소Json/NIA_SL_FS0683_CROWD16_F_morpheme.json'\n",
    "with open(file_name) as json_file:\n",
    "    json_data = json.load(json_file)\n",
    "    clip_name = json_data[\"metaData\"]['name']\n",
    "    print(clip_name)\n",
    "    clip_start = json_data[\"data\"][0]['start']\n",
    "    clip_start = math.trunc(clip_start * 10) / 10\n",
    "#     print(clip_start)\n",
    "    \n",
    "    clip_end = json_data[\"data\"][0]['end']\n",
    "    clip_end = math.ceil(clip_end * 10) / 10\n",
    "#     print(clip_end)"
   ]
  },
  {
   "cell_type": "code",
   "execution_count": 131,
   "metadata": {},
   "outputs": [
    {
     "data": {
      "text/plain": [
       "6.3"
      ]
     },
     "execution_count": 131,
     "metadata": {},
     "output_type": "execute_result"
    }
   ],
   "source": [
    "up_end"
   ]
  },
  {
   "cell_type": "code",
   "execution_count": 100,
   "metadata": {},
   "outputs": [
    {
     "name": "stdout",
     "output_type": "stream",
     "text": [
      "../data/CROWD_REAL005/CROWD_REAL015/형태소Json/NIA_SL_FS0683_CROWD16_F_morpheme.json\n",
      "{'metaData': {'url': 'https://blackolivevideo.blob.core.windows.net/sign-language/0929_emyou216/NIA_SL_FS0683_CROWD16_F.mp4', 'name': 'NIA_SL_FS0683_CROWD16_F.mp4', 'duration': 7.934, 'exportedOn': '2020/10/09'}, 'data': [{'start': 1.57, 'end': 6.302, 'attributes': [{'name': '낙산공원'}]}]}\n",
      "../data/CROWD_REAL005/CROWD_REAL013/형태소Json/NIA_SL_FS0616_CROWD21_F_morpheme.json\n",
      "{'metaData': {'url': 'https://blackolivevideo.blob.core.windows.net/sign-language/ktkim121/NIA_SL_FS0616_CROWD21_F.MP4', 'name': 'NIA_SL_FS0616_CROWD21_F.MP4', 'duration': None, 'exportedOn': '2020/10/09'}, 'data': [{'start': 1.196, 'end': 2.354, 'attributes': [{'name': '속성'}]}]}\n",
      "../data/CROWD_REAL005/CROWD_REAL014/형태소Json/NIA_SL_FS0628_CROWD05_F_morpheme.json\n",
      "{'metaData': {'url': 'https://blackolivevideo.blob.core.windows.net/sign-language/1005_bkyu183/NIA_SL_FS0628_CROWD05_F.mp4', 'name': 'NIA_SL_FS0628_CROWD05_F.mp4', 'duration': 7.934, 'exportedOn': '2020/10/09'}, 'data': [{'start': 0.894, 'end': 4.998, 'attributes': [{'name': '한가람로'}]}]}\n",
      "../data/CROWD_REAL006/CROWD_REAL016/형태소Json/NIA_SL_FS0733_CROWD14_F_morpheme.json\n",
      "{'metaData': {'url': 'https://blackolivevideo.blob.core.windows.net/sign-language/0929_yhjeon184/NIA_SL_FS0733_CROWD14_F.mp4', 'name': 'NIA_SL_FS0733_CROWD14_F.mp4', 'duration': 7.942, 'exportedOn': '2020/10/09'}, 'data': [{'start': 1.482, 'end': 4.395, 'attributes': [{'name': '공덕'}]}]}\n",
      "../data/CROWD_REAL006/CROWD_REAL018/형태소Json/NIA_SL_FS0823_CROWD02_F_morpheme.json\n",
      "{'metaData': {'url': 'https://blackolivevideo.blob.core.windows.net/sign-language/1005_rhkim242/NIA_SL_FS0823_CROWD02_F.mp4', 'name': 'NIA_SL_FS0823_CROWD02_F.mp4', 'duration': 7.955, 'exportedOn': '2020/10/09'}, 'data': [{'start': 0.904, 'end': 2.485, 'attributes': [{'name': '2명'}]}]}\n",
      "../data/CROWD_REAL006/CROWD_REAL017/형태소Json/NIA_SL_FS0784_CROWD15_F_morpheme.json\n",
      "{'metaData': {'url': 'https://blackolivevideo.blob.core.windows.net/sign-language/0929_sjim182/NIA_SL_FS0784_CROWD15_F.mp4', 'name': 'NIA_SL_FS0784_CROWD15_F.mp4', 'duration': 7.917, 'exportedOn': '2020/10/09'}, 'data': [{'start': 0.779, 'end': 3.216, 'attributes': [{'name': '정자'}]}]}\n",
      "../data/CROWD_REAL004/CROWD_REAL011/형태소Json/NIA_SL_FS0483_CROWD01_F_morpheme.json\n",
      "{'metaData': {'url': 'https://blackolivevideo.blob.core.windows.net/sign-language/1006_rhkim297/NIA_SL_FS0483_CROWD01_F.mp4', 'name': 'NIA_SL_FS0483_CROWD01_F.mp4', 'duration': 11.017, 'exportedOn': '2020/10/09'}, 'data': [{'start': 1.373, 'end': 6.765, 'attributes': [{'name': '월드컵북로'}]}]}\n",
      "../data/CROWD_REAL004/CROWD_REAL010/형태소Json/NIA_SL_FS0436_CROWD05_F_morpheme.json\n",
      "{'metaData': {'url': 'https://blackolivevideo.blob.core.windows.net/sign-language/1006_gdchoi297/NIA_SL_FS0436_CROWD05_F.mp4', 'name': 'NIA_SL_FS0436_CROWD05_F.mp4', 'duration': 8.017, 'exportedOn': '2020/10/09'}, 'data': [{'start': 1.483, 'end': 5.317, 'attributes': [{'name': '연무장길'}]}]}\n",
      "../data/CROWD_REAL004/CROWD_REAL012/형태소Json/NIA_SL_FS0568_CROWD08_F_morpheme.json\n",
      "{'metaData': {'url': 'https://blackolivevideo.blob.core.windows.net/sign-language/0929_sjim145/NIA_SL_FS0568_CROWD08_F.mp4', 'name': 'NIA_SL_FS0568_CROWD08_F.mp4', 'duration': 7.922, 'exportedOn': '2020/10/09'}, 'data': [{'start': 1.147, 'end': 5.729, 'attributes': [{'name': '진황도로'}]}]}\n"
     ]
    }
   ],
   "source": [
    "for dir1 in step1:\n",
    "    step1_dir = file_dir + dir1\n",
    "    step2 = os.listdir(step1_dir)\n",
    "#     print(step1_dir)\n",
    "    \n",
    "    for dir2 in step2:\n",
    "        step2_dir = step1_dir + '/' + dir2\n",
    "        step3 = os.listdir(step2_dir)\n",
    "        \n",
    "        #형태소로 들어가기\n",
    "        step3_dir = step2_dir + '/' + step3[2]\n",
    "        file_list = os.listdir(step3_dir)\n",
    "        \n",
    "        for file in file_list:\n",
    "            file_name = step3_dir + '/' + file\n",
    "            print(file_name)\n",
    "            with open(file_name) as json_file:\n",
    "                with open(file_name) as json_file:\n",
    "                json_data = json.load(json_file)\n",
    "                clip_name = json_data[\"metaData\"]['name']\n",
    "                print(clip_name)\n",
    "                clip_start = json_data[\"data\"][0]['start']\n",
    "                clip_start = math.trunc(clip_start * 10) / 10\n",
    "            #     print(clip_start)\n",
    "\n",
    "                clip_end = json_data[\"data\"][0]['end']\n",
    "                clip_end = math.ceil(clip_end * 10) / 10\n",
    "            #     print(clip_end)\n",
    "        "
   ]
  },
  {
   "cell_type": "code",
   "execution_count": null,
   "metadata": {},
   "outputs": [],
   "source": []
  }
 ],
 "metadata": {
  "kernelspec": {
   "display_name": "Python 3",
   "language": "python",
   "name": "python3"
  },
  "language_info": {
   "codemirror_mode": {
    "name": "ipython",
    "version": 3
   },
   "file_extension": ".py",
   "mimetype": "text/x-python",
   "name": "python",
   "nbconvert_exporter": "python",
   "pygments_lexer": "ipython3",
   "version": "3.7.6"
  }
 },
 "nbformat": 4,
 "nbformat_minor": 4
}
