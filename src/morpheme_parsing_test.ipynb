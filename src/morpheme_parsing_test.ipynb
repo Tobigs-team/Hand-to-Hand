{
 "cells": [
  {
   "cell_type": "code",
   "execution_count": 1,
   "metadata": {},
   "outputs": [],
   "source": [
    "import json\n",
    "import os\n",
    "from collections import Counter\n",
    "\n",
    "# with를 이용해 파일을 연다.\n",
    "# 경로만 따로 지정해주고? 이후에는 이 과정 전부 자동화 할거임.\n",
    "\n",
    "file_dir = \"../data/CROWD_REAL005/CROWD_REAL015/형태소Json/\" \n",
    "file_name = file_dir + \"NIA_SL_FS0572_CROWD10_F_morpheme.json\""
   ]
  },
  {
   "cell_type": "code",
   "execution_count": 2,
   "metadata": {},
   "outputs": [
    {
     "data": {
      "text/plain": [
       "1000"
      ]
     },
     "execution_count": 2,
     "metadata": {},
     "output_type": "execute_result"
    }
   ],
   "source": [
    "file_list = os.listdir(file_dir)\n",
    "len(file_list)"
   ]
  },
  {
   "cell_type": "code",
   "execution_count": 3,
   "metadata": {},
   "outputs": [
    {
     "name": "stdout",
     "output_type": "stream",
     "text": [
      "../data/CROWD_REAL005/CROWD_REAL015/형태소Json/NIA_SL_FS0713_CROWD12_F_morpheme.json\n"
     ]
    }
   ],
   "source": [
    "words = []\n",
    "for file in file_list:\n",
    "    file_name = file_dir + file\n",
    "    with open(file_name) as json_file:\n",
    "        try:\n",
    "            json_data = json.load(json_file)\n",
    "            json_string = json_data[\"data\"]\n",
    "            word = json_string[0]['attributes'][0]['name']\n",
    "            words.append(word)\n",
    "        except:\n",
    "            print(file_name)\n",
    "#             os.remove('test.txt')"
   ]
  },
  {
   "cell_type": "code",
   "execution_count": 4,
   "metadata": {},
   "outputs": [
    {
     "data": {
      "text/plain": [
       "Counter({'낙산공원': 21,\n",
       "         '남한산성': 21,\n",
       "         '숭례문': 20,\n",
       "         '석촌호수': 20,\n",
       "         '난지캠핑장': 21,\n",
       "         '흑석로': 21,\n",
       "         '보신각': 21,\n",
       "         '동대문디자인플라자': 20,\n",
       "         '북촌한옥마을': 18,\n",
       "         '대학로': 22,\n",
       "         '서울랜드': 19,\n",
       "         '국립민속박물관': 21,\n",
       "         '국립중앙박물관': 20,\n",
       "         '희우정로': 20,\n",
       "         'N서울타워': 20,\n",
       "         '국립서울현충원': 20,\n",
       "         '여의도공원': 20,\n",
       "         '광장시장': 21,\n",
       "         '신촌': 20,\n",
       "         '후암로': 26,\n",
       "         '인사동': 20,\n",
       "         '휘경로': 22,\n",
       "         '북한산': 20,\n",
       "         '경복궁': 21,\n",
       "         '독립문': 20,\n",
       "         '남산공원': 21,\n",
       "         '익선동한옥마을': 19,\n",
       "         '관악산': 21,\n",
       "         '이대': 21,\n",
       "         '덕수궁': 21,\n",
       "         '흥천사길': 20,\n",
       "         '봉은사': 20,\n",
       "         '도산공원': 22,\n",
       "         '선정릉': 20,\n",
       "         '서대문형문소': 15,\n",
       "         '속성': 23,\n",
       "         '삼청동': 19,\n",
       "         '북한산성': 20,\n",
       "         '경리단길': 20,\n",
       "         '수려문': 8,\n",
       "         '도봉산': 21,\n",
       "         '경희궁': 21,\n",
       "         '이태원': 20,\n",
       "         '세빛섬': 20,\n",
       "         '운현궁': 20,\n",
       "         '흑석한강로': 21,\n",
       "         '송파나루공원': 20,\n",
       "         '예술의전당': 20,\n",
       "         '효창원로': 1,\n",
       "         '서울광장': 19,\n",
       "         '서대문형무소': 5,\n",
       "         '인왕산': 6})"
      ]
     },
     "execution_count": 4,
     "metadata": {},
     "output_type": "execute_result"
    }
   ],
   "source": [
    "Counter(words)"
   ]
  },
  {
   "cell_type": "code",
   "execution_count": 10,
   "metadata": {},
   "outputs": [],
   "source": [
    "os.remove('test.txt')"
   ]
  },
  {
   "cell_type": "code",
   "execution_count": null,
   "metadata": {},
   "outputs": [],
   "source": []
  }
 ],
 "metadata": {
  "kernelspec": {
   "display_name": "Python 3",
   "language": "python",
   "name": "python3"
  },
  "language_info": {
   "codemirror_mode": {
    "name": "ipython",
    "version": 3
   },
   "file_extension": ".py",
   "mimetype": "text/x-python",
   "name": "python",
   "nbconvert_exporter": "python",
   "pygments_lexer": "ipython3",
   "version": "3.7.6"
  }
 },
 "nbformat": 4,
 "nbformat_minor": 4
}
